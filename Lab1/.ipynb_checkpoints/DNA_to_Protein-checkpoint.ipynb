{
 "cells": [
  {
   "cell_type": "code",
   "execution_count": 3,
   "metadata": {},
   "outputs": [],
   "source": [
    "from Bio import SeqIO as seq"
   ]
  },
  {
   "cell_type": "code",
   "execution_count": 31,
   "metadata": {},
   "outputs": [],
   "source": [
    "records = list(SeqIO.parse(\"hemoglobin_alpha2_dna.fa\", \"fasta\"))\n"
   ]
  },
  {
   "cell_type": "code",
   "execution_count": 32,
   "metadata": {},
   "outputs": [
    {
     "data": {
      "text/plain": [
       "[SeqRecord(seq=Seq('ATGGTGCTGTCTCCTGCCGACAAGACCAACGTCAAGGCCGCCTGGGGTAAGGTC...TAA', SingleLetterAlphabet()), id='ENSG00000188536', name='ENSG00000188536', description='ENSG00000188536 Human (Homo sapiens)', dbxrefs=[]),\n",
       " SeqRecord(seq=Seq('ATGGTGCTGTCTCCCGCCGACAAGACCAACATCAAGTCCACTTGGGATAAGATT...TAA', SingleLetterAlphabet()), id='ENSCAFP00000035886', name='ENSCAFP00000035886', description='ENSCAFP00000035886 Dog (Canis lupus familiaris)', dbxrefs=[]),\n",
       " SeqRecord(seq=Seq('ATGGTGCTGTCAGCCAACGACAAGAGCAACGTCAAGGCCGCTTTCGGCAAAATC...TAA', SingleLetterAlphabet()), id='ENSFALP00000004267', name='ENSFALP00000004267', description='ENSFALP00000004267 Flycatcher (Ficedula albicollis)', dbxrefs=[]),\n",
       " SeqRecord(seq=Seq('GATGGGTTCCGTGGGCGCGTACCTCCCCCTAACCCCCCTTCCCCTGGCACGGAT...TGA', SingleLetterAlphabet()), id='ENSOANP00000032350', name='ENSOANP00000032350', description='ENSOANP00000032350 Platypus (Ornithorhynchus anatinus)', dbxrefs=[]),\n",
       " SeqRecord(seq=Seq('CTGGTGCTGTCTCCCAACAAAACCAACGTCAAGGCCGCCTGGGGTAAAGCTGGC...TAA', SingleLetterAlphabet()), id='ENSPVAP00000011786', name='ENSPVAP00000011786', description='ENSPVAP00000011786 Megabat (Pteropus vampyrus)', dbxrefs=[])]"
      ]
     },
     "execution_count": 32,
     "metadata": {},
     "output_type": "execute_result"
    }
   ],
   "source": [
    "records[:5]"
   ]
  },
  {
   "cell_type": "code",
   "execution_count": 33,
   "metadata": {},
   "outputs": [
    {
     "data": {
      "text/plain": [
       "75"
      ]
     },
     "execution_count": 33,
     "metadata": {},
     "output_type": "execute_result"
    }
   ],
   "source": [
    "len(records)"
   ]
  },
  {
   "cell_type": "code",
   "execution_count": 34,
   "metadata": {},
   "outputs": [],
   "source": [
    "record_iterator = SeqIO.parse(\"hemoglobin_alpha2_dna.fa\", \"fasta\")"
   ]
  },
  {
   "cell_type": "code",
   "execution_count": 35,
   "metadata": {},
   "outputs": [],
   "source": [
    "first_record = next(record_iterator)"
   ]
  },
  {
   "cell_type": "code",
   "execution_count": 36,
   "metadata": {},
   "outputs": [
    {
     "name": "stdout",
     "output_type": "stream",
     "text": [
      "ID: ENSG00000188536\n",
      "Name: ENSG00000188536\n",
      "Description: ENSG00000188536 Human (Homo sapiens)\n",
      "Number of features: 0\n",
      "Seq('ATGGTGCTGTCTCCTGCCGACAAGACCAACGTCAAGGCCGCCTGGGGTAAGGTC...TAA', SingleLetterAlphabet())\n"
     ]
    }
   ],
   "source": [
    "print(first_record)"
   ]
  },
  {
   "cell_type": "code",
   "execution_count": 43,
   "metadata": {},
   "outputs": [
    {
     "name": "stdout",
     "output_type": "stream",
     "text": [
      "ID: <unknown id>\n",
      "Name: <unknown name>\n",
      "Description: <unknown description>\n",
      "Number of features: 0\n",
      "Seq('MVLSPADKTNVKAAWGKVGAHAGEYGAEALERMFLSFPTTKTYFPHFDLSHGSA...YR*', HasStopCodon(ExtendedIUPACProtein(), '*'))\n"
     ]
    }
   ],
   "source": [
    "print(first_record.translate())"
   ]
  },
  {
   "cell_type": "code",
   "execution_count": 44,
   "metadata": {},
   "outputs": [
    {
     "name": "stdout",
     "output_type": "stream",
     "text": [
      "ID: <unknown id>\n",
      "Name: <unknown name>\n",
      "Description: <unknown description>\n",
      "Number of features: 0\n",
      "Seq('MVLSPADKTNVKAAWGKVGAHAGEYGAEALERMFLSFPTTKTYFPHFDLSHGSA...YR*', HasStopCodon(ExtendedIUPACProtein(), '*'))\n"
     ]
    }
   ],
   "source": [
    "first_translate = first_record.translate()\n",
    "print(first_translate)"
   ]
  },
  {
   "cell_type": "code",
   "execution_count": 61,
   "metadata": {},
   "outputs": [
    {
     "data": {
      "text/plain": [
       "SeqRecord(seq=Seq('MVLSPADKTNVKAAWGKVGAHAGEYGAEALERMFLSFPTTKTYFPHFDLSHGSA...YR*', HasStopCodon(ExtendedIUPACProtein(), '*')), id='<unknown id>', name='<unknown name>', description='<unknown description>', dbxrefs=[])"
      ]
     },
     "execution_count": 61,
     "metadata": {},
     "output_type": "execute_result"
    }
   ],
   "source": [
    "records[0].translate()"
   ]
  },
  {
   "cell_type": "code",
   "execution_count": 74,
   "metadata": {},
   "outputs": [],
   "source": [
    "translated = []\n",
    "\n",
    "i = 0\n",
    "\n",
    "for seqRecord in SeqIO.parse(\"hemoglobin_alpha2_dna.fa\", \"fasta\"):\n",
    "    \n",
    "    translated.append(seqRecord.translate())\n",
    "    translated[i].id = seqRecord.id\n",
    "    translated[i].name = seqRecord.name\n",
    "    translated[i].description = seqRecord.description\n",
    "\n",
    "    i += 1"
   ]
  },
  {
   "cell_type": "code",
   "execution_count": 80,
   "metadata": {},
   "outputs": [
    {
     "data": {
      "text/plain": [
       "[SeqRecord(seq=Seq('ATGGTGCTGTCTCCTGCCGACAAGACCAACGTCAAGGCCGCCTGGGGTAAGGTC...TAA', SingleLetterAlphabet()), id='ENSG00000188536', name='ENSG00000188536', description='ENSG00000188536 Human (Homo sapiens)', dbxrefs=[]),\n",
       " SeqRecord(seq=Seq('ATGGTGCTGTCTCCCGCCGACAAGACCAACATCAAGTCCACTTGGGATAAGATT...TAA', SingleLetterAlphabet()), id='ENSCAFP00000035886', name='ENSCAFP00000035886', description='ENSCAFP00000035886 Dog (Canis lupus familiaris)', dbxrefs=[]),\n",
       " SeqRecord(seq=Seq('ATGGTGCTGTCAGCCAACGACAAGAGCAACGTCAAGGCCGCTTTCGGCAAAATC...TAA', SingleLetterAlphabet()), id='ENSFALP00000004267', name='ENSFALP00000004267', description='ENSFALP00000004267 Flycatcher (Ficedula albicollis)', dbxrefs=[]),\n",
       " SeqRecord(seq=Seq('GATGGGTTCCGTGGGCGCGTACCTCCCCCTAACCCCCCTTCCCCTGGCACGGAT...TGA', SingleLetterAlphabet()), id='ENSOANP00000032350', name='ENSOANP00000032350', description='ENSOANP00000032350 Platypus (Ornithorhynchus anatinus)', dbxrefs=[]),\n",
       " SeqRecord(seq=Seq('CTGGTGCTGTCTCCCAACAAAACCAACGTCAAGGCCGCCTGGGGTAAAGCTGGC...TAA', SingleLetterAlphabet()), id='ENSPVAP00000011786', name='ENSPVAP00000011786', description='ENSPVAP00000011786 Megabat (Pteropus vampyrus)', dbxrefs=[])]"
      ]
     },
     "execution_count": 80,
     "metadata": {},
     "output_type": "execute_result"
    }
   ],
   "source": [
    "records[:5]"
   ]
  },
  {
   "cell_type": "code",
   "execution_count": 79,
   "metadata": {},
   "outputs": [
    {
     "data": {
      "text/plain": [
       "[SeqRecord(seq=Seq('MVLSPADKTNVKAAWGKVGAHAGEYGAEALERMFLSFPTTKTYFPHFDLSHGSA...YR*', HasStopCodon(ExtendedIUPACProtein(), '*')), id='ENSG00000188536', name='ENSG00000188536', description='ENSG00000188536 Human (Homo sapiens)', dbxrefs=[]),\n",
       " SeqRecord(seq=Seq('MVLSPADKTNIKSTWDKIGGHAGDYGGEALDRTFQSFPTTKTYFPHFDLSPGSA...YR*', HasStopCodon(ExtendedIUPACProtein(), '*')), id='ENSCAFP00000035886', name='ENSCAFP00000035886', description='ENSCAFP00000035886 Dog (Canis lupus familiaris)', dbxrefs=[]),\n",
       " SeqRecord(seq=Seq('MVLSANDKSNVKAAFGKIGGQADEYGAETLERMFATYPQTKTYFPHFDLSKGSA...YR*', HasStopCodon(ExtendedIUPACProtein(), '*')), id='ENSFALP00000004267', name='ENSFALP00000004267', description='ENSFALP00000004267 Flycatcher (Ficedula albicollis)', dbxrefs=[]),\n",
       " SeqRecord(seq=Seq('DGFRGRVPPPNPPSPGTDSVDSPGTDPVDSPPGTVPTPLTFPALSRRLFLSFPP...SS*', HasStopCodon(ExtendedIUPACProtein(), '*')), id='ENSOANP00000032350', name='ENSOANP00000032350', description='ENSOANP00000032350 Platypus (Ornithorhynchus anatinus)', dbxrefs=[]),\n",
       " SeqRecord(seq=Seq('LVLSPNKTNVKAAWGKAGGNVGDYCTEAPERMFLGFPTSKTYFPHFDLSHGKKV...YR*', HasStopCodon(ExtendedIUPACProtein(), '*')), id='ENSPVAP00000011786', name='ENSPVAP00000011786', description='ENSPVAP00000011786 Megabat (Pteropus vampyrus)', dbxrefs=[])]"
      ]
     },
     "execution_count": 79,
     "metadata": {},
     "output_type": "execute_result"
    }
   ],
   "source": [
    "translated[:5]"
   ]
  },
  {
   "cell_type": "code",
   "execution_count": 81,
   "metadata": {},
   "outputs": [
    {
     "data": {
      "text/plain": [
       "75"
      ]
     },
     "execution_count": 81,
     "metadata": {},
     "output_type": "execute_result"
    }
   ],
   "source": [
    "SeqIO.write(translated, \"translated_records.fa\", \"fasta\")"
   ]
  },
  {
   "cell_type": "code",
   "execution_count": null,
   "metadata": {},
   "outputs": [],
   "source": []
  }
 ],
 "metadata": {
  "kernelspec": {
   "display_name": "Python 3",
   "language": "python",
   "name": "python3"
  },
  "language_info": {
   "codemirror_mode": {
    "name": "ipython",
    "version": 3
   },
   "file_extension": ".py",
   "mimetype": "text/x-python",
   "name": "python",
   "nbconvert_exporter": "python",
   "pygments_lexer": "ipython3",
   "version": "3.6.6"
  }
 },
 "nbformat": 4,
 "nbformat_minor": 2
}
