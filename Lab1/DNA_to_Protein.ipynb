{
 "cells": [
  {
   "cell_type": "code",
   "execution_count": 1,
   "metadata": {},
   "outputs": [],
   "source": [
    "# import the sequence io\n",
    "from Bio import SeqIO as seq"
   ]
  },
  {
   "cell_type": "code",
   "execution_count": 3,
   "metadata": {},
   "outputs": [],
   "source": [
    "# crete a list object for our file\n",
    "\n",
    "records = list(seq.parse(\"hemoglobin_alpha2_dna.fa\", \"fasta\"))"
   ]
  },
  {
   "cell_type": "code",
   "execution_count": 4,
   "metadata": {},
   "outputs": [
    {
     "data": {
      "text/plain": [
       "[SeqRecord(seq=Seq('ATGGTGCTGTCTCCTGCCGACAAGACCAACGTCAAGGCCGCCTGGGGTAAGGTC...TAA', SingleLetterAlphabet()), id='ENSG00000188536', name='ENSG00000188536', description='ENSG00000188536 Human (Homo sapiens)', dbxrefs=[]),\n",
       " SeqRecord(seq=Seq('ATGGTGCTGTCTCCCGCCGACAAGACCAACATCAAGTCCACTTGGGATAAGATT...TAA', SingleLetterAlphabet()), id='ENSCAFP00000035886', name='ENSCAFP00000035886', description='ENSCAFP00000035886 Dog (Canis lupus familiaris)', dbxrefs=[]),\n",
       " SeqRecord(seq=Seq('ATGGTGCTGTCAGCCAACGACAAGAGCAACGTCAAGGCCGCTTTCGGCAAAATC...TAA', SingleLetterAlphabet()), id='ENSFALP00000004267', name='ENSFALP00000004267', description='ENSFALP00000004267 Flycatcher (Ficedula albicollis)', dbxrefs=[]),\n",
       " SeqRecord(seq=Seq('GATGGGTTCCGTGGGCGCGTACCTCCCCCTAACCCCCCTTCCCCTGGCACGGAT...TGA', SingleLetterAlphabet()), id='ENSOANP00000032350', name='ENSOANP00000032350', description='ENSOANP00000032350 Platypus (Ornithorhynchus anatinus)', dbxrefs=[]),\n",
       " SeqRecord(seq=Seq('CTGGTGCTGTCTCCCAACAAAACCAACGTCAAGGCCGCCTGGGGTAAAGCTGGC...TAA', SingleLetterAlphabet()), id='ENSPVAP00000011786', name='ENSPVAP00000011786', description='ENSPVAP00000011786 Megabat (Pteropus vampyrus)', dbxrefs=[])]"
      ]
     },
     "execution_count": 4,
     "metadata": {},
     "output_type": "execute_result"
    }
   ],
   "source": [
    "# Let's take a look at our first 5 entries\n",
    "\n",
    "records[:5]"
   ]
  },
  {
   "cell_type": "code",
   "execution_count": 5,
   "metadata": {},
   "outputs": [
    {
     "data": {
      "text/plain": [
       "75"
      ]
     },
     "execution_count": 5,
     "metadata": {},
     "output_type": "execute_result"
    }
   ],
   "source": [
    "# How many do we have?\n",
    "\n",
    "len(records)"
   ]
  },
  {
   "cell_type": "code",
   "execution_count": 8,
   "metadata": {},
   "outputs": [
    {
     "data": {
      "text/plain": [
       "<generator object parse at 0x7f2b11e80ba0>"
      ]
     },
     "execution_count": 8,
     "metadata": {},
     "output_type": "execute_result"
    }
   ],
   "source": [
    "# create generator object for our data\n",
    "\n",
    "record_iterator = seq.parse(\"hemoglobin_alpha2_dna.fa\", \"fasta\")\n",
    "\n",
    "record_iterator"
   ]
  },
  {
   "cell_type": "code",
   "execution_count": 9,
   "metadata": {},
   "outputs": [],
   "source": [
    "# grab the first record\n",
    "\n",
    "first_record = next(record_iterator)"
   ]
  },
  {
   "cell_type": "code",
   "execution_count": 10,
   "metadata": {},
   "outputs": [
    {
     "name": "stdout",
     "output_type": "stream",
     "text": [
      "ID: ENSG00000188536\n",
      "Name: ENSG00000188536\n",
      "Description: ENSG00000188536 Human (Homo sapiens)\n",
      "Number of features: 0\n",
      "Seq('ATGGTGCTGTCTCCTGCCGACAAGACCAACGTCAAGGCCGCCTGGGGTAAGGTC...TAA', SingleLetterAlphabet())\n"
     ]
    }
   ],
   "source": [
    "# let's see what we got\n",
    "\n",
    "print(first_record)"
   ]
  },
  {
   "cell_type": "code",
   "execution_count": 11,
   "metadata": {},
   "outputs": [
    {
     "name": "stdout",
     "output_type": "stream",
     "text": [
      "ID: <unknown id>\n",
      "Name: <unknown name>\n",
      "Description: <unknown description>\n",
      "Number of features: 0\n",
      "Seq('MVLSPADKTNVKAAWGKVGAHAGEYGAEALERMFLSFPTTKTYFPHFDLSHGSA...YR*', HasStopCodon(ExtendedIUPACProtein(), '*'))\n"
     ]
    }
   ],
   "source": [
    "# we will now translate the sequence from DNA to Amino Acid\n",
    "# but this will in turn break our other fields\n",
    "\n",
    "print(first_record.translate())"
   ]
  },
  {
   "cell_type": "code",
   "execution_count": 13,
   "metadata": {},
   "outputs": [
    {
     "data": {
      "text/plain": [
       "SeqRecord(seq=Seq('MVLSPADKTNVKAAWGKVGAHAGEYGAEALERMFLSFPTTKTYFPHFDLSHGSA...YR*', HasStopCodon(ExtendedIUPACProtein(), '*')), id='<unknown id>', name='<unknown name>', description='<unknown description>', dbxrefs=[])"
      ]
     },
     "execution_count": 13,
     "metadata": {},
     "output_type": "execute_result"
    }
   ],
   "source": [
    "# make sure it matches the first object of our list of data objects\n",
    "records[0].translate()"
   ]
  },
  {
   "cell_type": "code",
   "execution_count": 14,
   "metadata": {},
   "outputs": [],
   "source": [
    "# here is where will put it all together \n",
    "# notice how we carry over the other fields as well\n",
    "\n",
    "# instantiate emppty list\n",
    "translated = []\n",
    "\n",
    "# instantiate iterator\n",
    "i = 0\n",
    "\n",
    "# loop through and change the data for every DNA \n",
    "for seqRecord in seq.parse(\"hemoglobin_alpha2_dna.fa\", \"fasta\"):\n",
    "    \n",
    "    translated.append(seqRecord.translate())\n",
    "    translated[i].id = seqRecord.id\n",
    "    translated[i].name = seqRecord.name\n",
    "    translated[i].description = seqRecord.description\n",
    "\n",
    "    i += 1"
   ]
  },
  {
   "cell_type": "code",
   "execution_count": 16,
   "metadata": {},
   "outputs": [
    {
     "data": {
      "text/plain": [
       "[SeqRecord(seq=Seq('ATGGTGCTGTCTCCTGCCGACAAGACCAACGTCAAGGCCGCCTGGGGTAAGGTC...TAA', SingleLetterAlphabet()), id='ENSG00000188536', name='ENSG00000188536', description='ENSG00000188536 Human (Homo sapiens)', dbxrefs=[]),\n",
       " SeqRecord(seq=Seq('ATGGTGCTGTCTCCCGCCGACAAGACCAACATCAAGTCCACTTGGGATAAGATT...TAA', SingleLetterAlphabet()), id='ENSCAFP00000035886', name='ENSCAFP00000035886', description='ENSCAFP00000035886 Dog (Canis lupus familiaris)', dbxrefs=[]),\n",
       " SeqRecord(seq=Seq('ATGGTGCTGTCAGCCAACGACAAGAGCAACGTCAAGGCCGCTTTCGGCAAAATC...TAA', SingleLetterAlphabet()), id='ENSFALP00000004267', name='ENSFALP00000004267', description='ENSFALP00000004267 Flycatcher (Ficedula albicollis)', dbxrefs=[]),\n",
       " SeqRecord(seq=Seq('GATGGGTTCCGTGGGCGCGTACCTCCCCCTAACCCCCCTTCCCCTGGCACGGAT...TGA', SingleLetterAlphabet()), id='ENSOANP00000032350', name='ENSOANP00000032350', description='ENSOANP00000032350 Platypus (Ornithorhynchus anatinus)', dbxrefs=[]),\n",
       " SeqRecord(seq=Seq('CTGGTGCTGTCTCCCAACAAAACCAACGTCAAGGCCGCCTGGGGTAAAGCTGGC...TAA', SingleLetterAlphabet()), id='ENSPVAP00000011786', name='ENSPVAP00000011786', description='ENSPVAP00000011786 Megabat (Pteropus vampyrus)', dbxrefs=[])]"
      ]
     },
     "execution_count": 16,
     "metadata": {},
     "output_type": "execute_result"
    }
   ],
   "source": [
    "# Use this to compare to our new translated list\n",
    "records[:5]"
   ]
  },
  {
   "cell_type": "code",
   "execution_count": 17,
   "metadata": {},
   "outputs": [
    {
     "data": {
      "text/plain": [
       "[SeqRecord(seq=Seq('MVLSPADKTNVKAAWGKVGAHAGEYGAEALERMFLSFPTTKTYFPHFDLSHGSA...YR*', HasStopCodon(ExtendedIUPACProtein(), '*')), id='ENSG00000188536', name='ENSG00000188536', description='ENSG00000188536 Human (Homo sapiens)', dbxrefs=[]),\n",
       " SeqRecord(seq=Seq('MVLSPADKTNIKSTWDKIGGHAGDYGGEALDRTFQSFPTTKTYFPHFDLSPGSA...YR*', HasStopCodon(ExtendedIUPACProtein(), '*')), id='ENSCAFP00000035886', name='ENSCAFP00000035886', description='ENSCAFP00000035886 Dog (Canis lupus familiaris)', dbxrefs=[]),\n",
       " SeqRecord(seq=Seq('MVLSANDKSNVKAAFGKIGGQADEYGAETLERMFATYPQTKTYFPHFDLSKGSA...YR*', HasStopCodon(ExtendedIUPACProtein(), '*')), id='ENSFALP00000004267', name='ENSFALP00000004267', description='ENSFALP00000004267 Flycatcher (Ficedula albicollis)', dbxrefs=[]),\n",
       " SeqRecord(seq=Seq('DGFRGRVPPPNPPSPGTDSVDSPGTDPVDSPPGTVPTPLTFPALSRRLFLSFPP...SS*', HasStopCodon(ExtendedIUPACProtein(), '*')), id='ENSOANP00000032350', name='ENSOANP00000032350', description='ENSOANP00000032350 Platypus (Ornithorhynchus anatinus)', dbxrefs=[]),\n",
       " SeqRecord(seq=Seq('LVLSPNKTNVKAAWGKAGGNVGDYCTEAPERMFLGFPTSKTYFPHFDLSHGKKV...YR*', HasStopCodon(ExtendedIUPACProtein(), '*')), id='ENSPVAP00000011786', name='ENSPVAP00000011786', description='ENSPVAP00000011786 Megabat (Pteropus vampyrus)', dbxrefs=[])]"
      ]
     },
     "execution_count": 17,
     "metadata": {},
     "output_type": "execute_result"
    }
   ],
   "source": [
    "# notice how the dna is now in the form of an Amino acid\n",
    "translated[:5]"
   ]
  },
  {
   "cell_type": "code",
   "execution_count": 20,
   "metadata": {},
   "outputs": [
    {
     "data": {
      "text/plain": [
       "75"
      ]
     },
     "execution_count": 20,
     "metadata": {},
     "output_type": "execute_result"
    }
   ],
   "source": [
    "seq.write(translated, \"translated_records.fa\", \"fasta\")"
   ]
  },
  {
   "cell_type": "code",
   "execution_count": null,
   "metadata": {},
   "outputs": [],
   "source": []
  }
 ],
 "metadata": {
  "kernelspec": {
   "display_name": "Python 3",
   "language": "python",
   "name": "python3"
  },
  "language_info": {
   "codemirror_mode": {
    "name": "ipython",
    "version": 3
   },
   "file_extension": ".py",
   "mimetype": "text/x-python",
   "name": "python",
   "nbconvert_exporter": "python",
   "pygments_lexer": "ipython3",
   "version": "3.6.6"
  }
 },
 "nbformat": 4,
 "nbformat_minor": 2
}
